{
 "cells": [
  {
   "cell_type": "markdown",
   "metadata": {
    "_cell_guid": "f0a16794-7d7d-417f-9e53-830f4ffb13be",
    "_uuid": "9bfe8f6e5363aa84f2551a17bd519be707061894"
   },
   "source": [
    "# Data visualize\n",
    "### Sophia Kramar"
   ]
  },
  {
   "cell_type": "markdown",
   "metadata": {},
   "source": [
    "В качестве набора данных я выбрала датасет про размер устриц. В таблице представленны данные о массе и объёме каждой устрицы (в унциях). На графике же хорошо видно, как размер устрицы зависит от этих двух параметров"
   ]
  },
  {
   "cell_type": "code",
   "execution_count": 38,
   "metadata": {
    "_cell_guid": "ce8c5553-0cf4-46ba-a79c-651740b3c272",
    "_uuid": "f2e70913c4eb9fa1774b60c66c0a38d5f73e5991",
    "scrolled": true
   },
   "outputs": [
    {
     "name": "stdout",
     "output_type": "stream",
     "text": [
      "   Weight  Volume\n",
      "0   12.92   13.04\n",
      "1   11.40   11.71\n",
      "2   17.42   17.42\n",
      "3    6.79    7.23\n",
      "4    9.62   10.03\n",
      "5   15.50   15.59\n",
      "6    9.66    9.94\n"
     ]
    }
   ],
   "source": [
    "import matplotlib.pyplot as pt\n",
    "import pandas as pd\n",
    "import math\n",
    "\n",
    "trainSet=pd.read_csv('input/Oysters.csv')\n",
    "print(pd.DataFrame(trainSet).head(7))"
   ]
  },
  {
   "cell_type": "markdown",
   "metadata": {
    "_cell_guid": "36c9750f-4666-49f7-bcf2-9e60b4a73124",
    "_uuid": "0a204b3c34391098e305aa7e9947485e7579efe3"
   },
   "source": [
    "Подключение всех библиотек, загрузка данных в переменные, формирование фреймов"
   ]
  },
  {
   "cell_type": "code",
   "execution_count": 39,
   "metadata": {
    "_cell_guid": "82ead592-f173-492e-93a1-e926bdbb7b76",
    "_uuid": "a4f613fc8707b51ffcd8d3a695c0d33ee624665c"
   },
   "outputs": [],
   "source": [
    "df = pd.DataFrame(trainSet)\n",
    "X=df[\"Weight\"].tolist()\n",
    "Y=df[\"Volume\"].tolist()\n"
   ]
  },
  {
   "cell_type": "markdown",
   "metadata": {
    "_cell_guid": "ac0c4e89-01f6-4794-9d60-23943cad334c",
    "_uuid": "d854c2412d128887606cf478d8f57cc8a54c41dd"
   },
   "source": [
    "Выделение фреймов на сеты X и Y"
   ]
  },
  {
   "cell_type": "code",
   "execution_count": 41,
   "metadata": {
    "_cell_guid": "792ddea5-659a-478e-ba9e-7701261ef749",
    "_uuid": "e545b1d9ec52f728fd548c1dc79ea57a2a429a97"
   },
   "outputs": [
    {
     "data": {
      "image/png": "[encoded data removed]",
      "text/plain": [
       "<Figure size 432x288 with 1 Axes>"
      ]
     },
     "metadata": {
      "needs_background": "light"
     },
     "output_type": "display_data"
    }
   ],
   "source": [
    "pt.title('Oysters size ')\n",
    "pt.scatter(X,Y,c='black',marker='*')\n",
    "pt.xlabel('Weight, oince')\n",
    "pt.ylabel('Volume, fluid oince')\n",
    "pt.show()"
   ]
  }
 ],
 "metadata": {
  "anaconda-cloud": {},
  "kernelspec": {
   "display_name": "Python 3",
   "language": "python",
   "name": "python3"
  },
  "language_info": {
   "codemirror_mode": {
    "name": "ipython",
    "version": 3
   },
   "file_extension": ".py",
   "mimetype": "text/x-python",
   "name": "python",
   "nbconvert_exporter": "python",
   "pygments_lexer": "ipython3",
   "version": "3.7.1"
  }
 },
 "nbformat": 4,
 "nbformat_minor": 1
}
